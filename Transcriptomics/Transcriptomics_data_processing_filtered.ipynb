{
 "cells": [
  {
   "cell_type": "markdown",
   "metadata": {},
   "source": [
    "# Transcriptomics data analysis"
   ]
  },
  {
   "cell_type": "markdown",
   "metadata": {},
   "source": [
    "### General module import"
   ]
  },
  {
   "cell_type": "code",
   "execution_count": null,
   "metadata": {
    "tags": []
   },
   "outputs": [],
   "source": [
    "# Load functions\n",
    "%load_ext autoreload\n",
    "%autoreload 2\n",
    "from oleveler import *\n",
    "# Oleveler: https://gitlab.services.universiteitleiden.nl/ibl-bioinformatic/oleveler\n",
    "# Set plotting mode for notebook\n",
    "%matplotlib inline\n",
    "setDarkModePlotting(forceWhite=True)\n",
    "\n",
    "# Set logger level. For more info: use logging.INFO\n",
    "logshandler.setLevel(logging.WARNING)\n",
    "logshandler.setLevel(logging.INFO)"
   ]
  },
  {
   "cell_type": "markdown",
   "metadata": {},
   "source": [
    "## Data processing\n",
    "\n",
    "Data was generated using MaxQuant LFQ method, so we will find 'LFQ intensities' columns from the 'proteinGroups.txt' file."
   ]
  },
  {
   "cell_type": "code",
   "execution_count": null,
   "metadata": {},
   "outputs": [],
   "source": [
    "# Load data\n",
    "selfAlignCt = gatherCountTable(\"selfAlign/gene_counts_filtered/\")\n",
    "saDf = calculateTPM(selfAlignCt, 'selfAlign/gene_counts_filtered/GCF_000203835.1_ASM20383v1_genomic.gff', \n",
    "                    tagsForGeneName='locus_tag', removerRNA=True, removeIDcontains=['SCP'])\n",
    "\n",
    "# Load meta\n",
    "metaDf, conditions, experiments = loadMeta('Annotation.csv')\n",
    "\n",
    "# Calculate mean and var\n",
    "meanDf, nquantDf, varDf, stdDf, semDf = getStats(saDf, experiments)\n",
    "\n",
    "# Transformation vst using DESeq2\n",
    "vstDf = deseq2Process(selfAlignCt, metaDf, ref='WT_45')\n",
    "vstMeanDf, vstNquantDf, vstVarDf, vstStdDf, vstSemDf = getStats(vstDf, experiments, title='vst')"
   ]
  },
  {
   "cell_type": "markdown",
   "metadata": {},
   "source": [
    "### DESeq2 different expression analysis"
   ]
  },
  {
   "cell_type": "code",
   "execution_count": null,
   "metadata": {},
   "outputs": [],
   "source": [
    "deseq2CompResultsShrink, comparisons = makeCompMatrixDeseq2('comparisons.xlsx', \n",
    "                                                      selfAlignCt,\n",
    "                                                      'annotation.csv',\n",
    "                                                      shrink='lfcShrink')"
   ]
  },
  {
   "cell_type": "markdown",
   "metadata": {},
   "source": [
    "## General QC\n",
    "\n",
    "Both for none transformed and VST transformed data. "
   ]
  },
  {
   "cell_type": "markdown",
   "metadata": {},
   "source": [
    "## Data analysis plots"
   ]
  },
  {
   "cell_type": "markdown",
   "metadata": {},
   "source": [
    "### General analysis\n",
    "\n",
    "PCA and PLS analysis.\n",
    "\n",
    "Including volcano plots of different comparisons.\n",
    "\n",
    "Get the DE from both **DESeq2** and **MSstats** result. The normalisation of MSstats seems not applicable for bad data, be careful about that."
   ]
  },
  {
   "cell_type": "markdown",
   "metadata": {},
   "source": [
    "PCA plot VST"
   ]
  },
  {
   "cell_type": "code",
   "execution_count": null,
   "metadata": {},
   "outputs": [],
   "source": [
    "# Remove Gbn from data. The gene has been knockedout from one strain\n",
    "newVstDf = vstDf[vstDf.index != 'SCO1839']\n",
    "PcaClass_vst = plotPrincipleAnalysis(newVstDf, colourSet=genColour(vstDf.columns), figsize=(4,4),\n",
    "                                     title='VST df (no gbn)', analysisType='PCA')\n",
    "plotPCAExplanation(PcaClass_vst)"
   ]
  },
  {
   "cell_type": "code",
   "execution_count": null,
   "metadata": {},
   "outputs": [],
   "source": [
    "# Loading plot\n",
    "plotPrincipleAnalysisLoading(vstDf, drawOutliers=True, outlierAlg=0, outliersFraction=0.05, title='VST df')"
   ]
  },
  {
   "cell_type": "markdown",
   "metadata": {},
   "source": [
    "PLS plot VST\n",
    "\n",
    "This has similar result as non-supervised PCA."
   ]
  },
  {
   "cell_type": "code",
   "execution_count": null,
   "metadata": {},
   "outputs": [],
   "source": [
    "plsClasses = [\n",
    "              [0,24],\n",
    "              [0,24],\n",
    "              [0,24],\n",
    "              [0,45],\n",
    "              [0,45],\n",
    "              [0,45],\n",
    "              [2,24],\n",
    "              [2,24],\n",
    "              [2,24],\n",
    "              [2,45],\n",
    "              [2,45],\n",
    "              [2,45],\n",
    "]\n",
    "plsClasses = np.array(plsClasses)\n",
    "\n",
    "PlsClass_vst = plotPrincipleAnalysis(vstDf,\n",
    "                                     colourSet=genColour(vstDf.columns),\n",
    "                                     title='VST df',\n",
    "                                     analysisType='PLS',\n",
    "                                     plsClasses=plsClasses)"
   ]
  },
  {
   "cell_type": "markdown",
   "metadata": {},
   "source": [
    "Correlation plot VST"
   ]
  },
  {
   "cell_type": "code",
   "execution_count": null,
   "metadata": {},
   "outputs": [],
   "source": [
    "plotCorr(vstDf, vmin=0.8)"
   ]
  },
  {
   "cell_type": "markdown",
   "metadata": {},
   "source": [
    "Volcano plot for each comparison."
   ]
  },
  {
   "cell_type": "code",
   "execution_count": null,
   "metadata": {},
   "outputs": [],
   "source": [
    "c = 'mu_wt24'\n",
    "# Columns prepared to get the expression data from vstDf\n",
    "cols = metaDf[(metaDf.Condition==comparisons[c]['exp']) | \\\n",
    "              (metaDf.Condition==comparisons[c]['ctr'])].Experiment.values\n",
    "# Genes to be highlighted:\n",
    "targets = OrderedDict([\n",
    "    ('GlnR regulon' , ['SCO2198', # glnA\n",
    "            'SCO5583', 'SCO5584', 'SCO5585', # amtB, glnK, glnD\n",
    "            'SCO2210', # glnII\n",
    "            'SCO4683', # gdhA\n",
    "            'SCO2486','SCO2487', 'SCO2488', # nirB_a, nirB_b, nirCD\n",
    "            'SCO1236', 'SCO1235', 'SCO1234', 'SCO1233',# ureA, B, C, F\n",
    "            'SCO0255', 'SCO0888', 'SCO2400', 'SCO2404', 'SCO1863', 'SCO2195', 'SCO7155'\n",
    "           ]),\n",
    "    (r'$act$',[f'SCO{i}' for i in range(5071, 5093)]),\n",
    "    (r'$nuo$JKLMN', [f'SCO{i}' for i in range(4571, 4576)]),\n",
    "    (r'$nuo2$'  ,[f'SCO{i}' for i in range(4599, 4609)]),\n",
    "    (r\"$bxl$AEFG\", [f'SCO{i}' for i in range(7028,7032)]),\n",
    "    (\"carboxylesterase related\", [f'SCO0{i}' for i in range(319,322)]),\n",
    "    (\"SoxR regulon\", ['SCO4265', 'SCO4266','SCO2477','SCO2478', 'SCO7008', 'SCO1909', 'SCO1178']),\n",
    "    ('Possible HGT cluster',[f'SCO{i}' for i in range(4615, 4628)]),\n",
    "#     ('Nit' ,[f'SCO{i}' for i in range(5583, 5586)]),\n",
    "#     ('Nir' ,[f'SCO{i}' for i in range(2486, 2489)]),\n",
    "#     ('pGlnr' , ['SCO2471', 'SCO2472', 'SCO2473']),\n",
    "#     ('Act',[f'SCO{i}' for i in range(5071, 5093)]),\n",
    "#     ('red',[f'SCO{i}' for i in range(5877, 5899)]),\n",
    "#     ('cpk',[f'SCO{i}' for i in range(6273, 6289)]),\n",
    "#     ('whi',[f'SCO{i}' for i in [3034,4543,4767,5621,6029,1950,5314,5315,5316,5317,5318,5319,5320,5321,5819]]),\n",
    "#     ('bld',[f'SCO{i}' for i in [1489,3323,3549,4091,4768,5112,5113,5114,5115,5116,5723,2792]])\n",
    "])\n",
    "\n",
    "plotVolcano(deseq2CompResultsShrink[c], \n",
    "            vstDf[cols].mean(axis=1), \n",
    "            xmax=6, ymax=80,\n",
    "            highlights=targets,\n",
    "            figsize=(8,8),\n",
    "            title=f'shrink_comp_result_{c}')\n",
    "\n",
    "c = 'mu_wt45'\n",
    "cols = metaDf[(metaDf.Condition==comparisons[c]['exp']) | \\\n",
    "              (metaDf.Condition==comparisons[c]['ctr'])].Experiment.values\n",
    "plotVolcano(deseq2CompResultsShrink[c], \n",
    "            vstDf[cols].mean(axis=1), \n",
    "            highlights=targets,\n",
    "            figsize=(8,8),\n",
    "            xmax = 6, ymax=160,\n",
    "            title=f'shrink_comp_result_{c}')"
   ]
  },
  {
   "cell_type": "markdown",
   "metadata": {},
   "source": [
    "---"
   ]
  },
  {
   "cell_type": "code",
   "execution_count": null,
   "metadata": {},
   "outputs": [],
   "source": [
    "writeRSessionInfo('RSessionInfo.txt', overwrite=False)"
   ]
  }
 ],
 "metadata": {
  "kernelspec": {
   "display_name": "Python 3 (ipykernel)",
   "language": "python",
   "name": "python3"
  },
  "language_info": {
   "codemirror_mode": {
    "name": "ipython",
    "version": 3
   },
   "file_extension": ".py",
   "mimetype": "text/x-python",
   "name": "python",
   "nbconvert_exporter": "python",
   "pygments_lexer": "ipython3",
   "version": "3.9.7"
  },
  "toc-showmarkdowntxt": true,
  "widgets": {
   "application/vnd.jupyter.widget-state+json": {
    "state": {},
    "version_major": 2,
    "version_minor": 0
   }
  }
 },
 "nbformat": 4,
 "nbformat_minor": 4
}
